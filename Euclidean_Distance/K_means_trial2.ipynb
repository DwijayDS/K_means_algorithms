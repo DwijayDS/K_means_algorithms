{
 "cells": [
  {
   "cell_type": "code",
   "execution_count": 3,
   "metadata": {},
   "outputs": [],
   "source": [
    "import pandas as pd\n",
    "import numpy as np\n",
    "import matplotlib.pyplot as plt\n",
    "import random"
   ]
  },
  {
   "cell_type": "code",
   "execution_count": 4,
   "metadata": {},
   "outputs": [
    {
     "name": "stdout",
     "output_type": "stream",
     "text": [
      "(217, 2)\n"
     ]
    }
   ],
   "source": [
    "data = np.genfromtxt('/home/dwijay/NOTEBOOKS/Trying_ML/K_means_trial/faithful.csv',delimiter=',')\n",
    "learn_data = data[1:int(0.8*272)+1,1:]\n",
    "test_data = data[int(0.8*272)+1:,1:]\n",
    "print(np.shape(learn_data))"
   ]
  },
  {
   "cell_type": "code",
   "execution_count": null,
   "metadata": {},
   "outputs": [],
   "source": [
    "plt.scatter(test_data[:,0],test_data[:,1])\n",
    "plt.show()"
   ]
  },
  {
   "cell_type": "code",
   "execution_count": null,
   "metadata": {},
   "outputs": [],
   "source": [
    "#centroid1 = learn_data[random.randrange(int(0.8*272)),:]\n",
    "#centroid2 = learn_data[random.randrange(int(0.8*272)),:]\n",
    "#Put an if statement if they are same rondomize again\n",
    "centroid1 = np.array([0.05,180.0])\n",
    "centroid2 = np.array([4.5,50.0])"
   ]
  },
  {
   "cell_type": "code",
   "execution_count": null,
   "metadata": {},
   "outputs": [],
   "source": [
    "print(centroid1,centroid2)"
   ]
  },
  {
   "cell_type": "code",
   "execution_count": null,
   "metadata": {},
   "outputs": [],
   "source": [
    "plt.scatter(np.array([centroid1[0],centroid2[0]]),np.array([centroid1[1],centroid2[1]]))\n",
    "plt.xlim(0,6)\n",
    "plt.show()"
   ]
  },
  {
   "cell_type": "markdown",
   "metadata": {},
   "source": [
    "**K-Means Algo with one data at time**\n"
   ]
  },
  {
   "cell_type": "code",
   "execution_count": null,
   "metadata": {},
   "outputs": [],
   "source": [
    "Rnk = []\n",
    "shp = np.shape(learn_data)\n",
    "k = 2\n",
    "'''Centroid for testing'''\n",
    "centroid = np.empty((k,shp[-1]))\n",
    "for i in range(k):\n",
    "    for j in range(shp[-1]):\n",
    "        centroid[i,j] = random.randrange(int(min(learn_data[:,j])),int(max(learn_data[:,j])))\n"
   ]
  },
  {
   "cell_type": "code",
   "execution_count": null,
   "metadata": {},
   "outputs": [],
   "source": [
    "print(np.array([learn_data[0,:]]*k))"
   ]
  },
  {
   "cell_type": "code",
   "execution_count": null,
   "metadata": {},
   "outputs": [],
   "source": [
    "centroid"
   ]
  },
  {
   "cell_type": "code",
   "execution_count": null,
   "metadata": {},
   "outputs": [],
   "source": [
    "for i in range(shp[0]):\n",
    "    dist = np.sum(np.square(centroid-np.array([learn_data[i,:]]*k)),axis=-1)\n",
    "    #print(np.where(dist==min(dist))[0])\n",
    "    if np.shape(Rnk)[0]!=shp[0]:\n",
    "        Rnk.append(np.where(dist==min(dist))[0][0])\n",
    "    else:\n",
    "        Rnk[i] = np.where(dist==min(dist))[0][0]\n",
    "\n",
    "Rnk = np.reshape(Rnk,(-1,1))\n",
    "\n",
    "\n",
    "for j in range(k):\n",
    "    \n",
    "    idx = np.where(Rnk == j)[0]\n",
    "    \n",
    "    centroid[j,:] = np.sum(learn_data[idx,:],axis= 0)/np.shape(idx)[0]\n",
    "        \n",
    "        \n"
   ]
  },
  {
   "cell_type": "code",
   "execution_count": null,
   "metadata": {},
   "outputs": [],
   "source": [
    "centroid"
   ]
  },
  {
   "cell_type": "code",
   "execution_count": null,
   "metadata": {},
   "outputs": [],
   "source": [
    "array([[ 4.30154412, 80.43382353],\n",
    "       [ 2.09135802, 54.85185185]])"
   ]
  },
  {
   "cell_type": "code",
   "execution_count": null,
   "metadata": {},
   "outputs": [],
   "source": [
    "idx1 = np.where(Rnk == 0)[0]\n",
    "idx2 = np.where(Rnk == 1)[0]\n",
    "plt.scatter(learn_data[idx1,0],learn_data[idx1,1],color = 'red')\n",
    "plt.scatter(learn_data[idx2,0],learn_data[idx2,1],color = 'green')\n",
    "plt.scatter(np.array([centroid[0,0],centroid[1,0]]),np.array([centroid[0,1],centroid[1,1]]),marker='*', s=300,c='b', label='centroid')\n",
    "plt.show()"
   ]
  },
  {
   "cell_type": "code",
   "execution_count": null,
   "metadata": {},
   "outputs": [],
   "source": [
    "print(centroid1,centroid2)"
   ]
  },
  {
   "cell_type": "code",
   "execution_count": null,
   "metadata": {},
   "outputs": [],
   "source": [
    "class k_means():\n",
    "    def __init__(self):\n",
    "        '''\n",
    "        This class implements K-means algoritm.\n",
    "        \n",
    "        To train the model call fit() function.\n",
    "        \n",
    "        To Predict call predict() function.\n",
    "        \n",
    "        '''\n",
    "        pass\n",
    "        \n",
    "    \n",
    "    def Search_Rnk(self,learn_data,shp,first = 0):\n",
    "        \n",
    "        if first==0:\n",
    "            self.Rnk = []\n",
    "            self.centroid = np.empty((self.k,shp[-1]))\n",
    "            for i in range(self.k):\n",
    "                for j in range(shp[-1]):\n",
    "                    self.centroid[i,j] = random.randrange(int(min(learn_data[:,j])),int(max(learn_data[:,j])))\n",
    "\n",
    "        \n",
    "        \n",
    "        for i in range(shp[0]):\n",
    "            dist = np.sum(np.square(self.centroid-np.array([learn_data[i,:]]*self.k)),axis=-1)\n",
    "            \n",
    "            if np.shape(self.Rnk)[0]!=shp[0]:\n",
    "                self.Rnk.append(np.where(dist==min(dist))[0][0])\n",
    "            else:\n",
    "                self.Rnk[i] = np.where(dist==min(dist))[0][0]\n",
    "\n",
    "        self.Rnk = np.reshape(self.Rnk,(-1,1))\n",
    "    \n",
    "    def Find_Centroids(self,learn_data):\n",
    "        \n",
    "        for j in range(self.k):\n",
    "    \n",
    "            idx = np.where(self.Rnk == j)[0]\n",
    "    \n",
    "            self.centroid[j,:] = np.sum(learn_data[idx,:],axis= 0)/np.shape(idx)[0]\n",
    "    \n",
    "    def fit(self,X,k,iteration):\n",
    "        \n",
    "        self.k = k\n",
    "        self.made_cluster = 1\n",
    "        \n",
    "        for i in range(iteration):\n",
    "            \n",
    "            self.Search_Rnk(learn_data=X,shp = np.shape(X),first = i)\n",
    "            \n",
    "            self.Find_Centroids(learn_data=X)\n",
    "            \n",
    "    def predict(self,data):\n",
    "        \n",
    "        try:\n",
    "            test = self.made_cluster\n",
    "        except:\n",
    "            print('You need to train the model first..........')\n",
    "        else:\n",
    "            \n",
    "            pred_Rnk = []\n",
    "            \n",
    "            shp = np.shape(data)\n",
    "            \n",
    "            for i in range(shp[0]):\n",
    "                dist = np.sum(np.square(self.centroid-np.array([data[i,:]]*self.k)),axis=-1)\n",
    "            \n",
    "                pred_Rnk.append(np.where(dist==min(dist))[0][0])\n",
    "\n",
    "            pred_Rnk = np.reshape(pred_Rnk,(-1,1))\n",
    "            \n",
    "            return pred_Rnk\n",
    "            \n",
    "            \n",
    "            \n",
    "        \n",
    "\n",
    "        \n"
   ]
  },
  {
   "cell_type": "code",
   "execution_count": null,
   "metadata": {},
   "outputs": [],
   "source": [
    "K = k_means()"
   ]
  },
  {
   "cell_type": "code",
   "execution_count": null,
   "metadata": {},
   "outputs": [],
   "source": [
    "K.fit(learn_data,2,5)"
   ]
  },
  {
   "cell_type": "code",
   "execution_count": null,
   "metadata": {},
   "outputs": [],
   "source": [
    "learn_data[0:1]"
   ]
  },
  {
   "cell_type": "code",
   "execution_count": null,
   "metadata": {},
   "outputs": [],
   "source": [
    "np.array([[2.,80.]])"
   ]
  },
  {
   "cell_type": "code",
   "execution_count": null,
   "metadata": {},
   "outputs": [],
   "source": [
    "pred = K.predict(np.array([[4.,80.]]))\n",
    "print(pred,learn_data[0])"
   ]
  },
  {
   "cell_type": "code",
   "execution_count": null,
   "metadata": {},
   "outputs": [],
   "source": [
    "idx1 = np.where(K.Rnk == 0)[0]\n",
    "idx2 = np.where(K.Rnk == 1)[0]\n",
    "plt.scatter(learn_data[idx1,0],learn_data[idx1,1],color = 'red')\n",
    "plt.scatter(learn_data[idx2,0],learn_data[idx2,1],color = 'green')\n",
    "plt.scatter(np.array([K.centroid[0,0],K.centroid[1,0]]),np.array([K.centroid[0,1],K.centroid[1,1]]),marker='*', s=300,c='b', label='centroid')\n",
    "plt.show()"
   ]
  },
  {
   "cell_type": "code",
   "execution_count": 5,
   "metadata": {},
   "outputs": [],
   "source": [
    "from K_means_distance import *"
   ]
  },
  {
   "cell_type": "code",
   "execution_count": 6,
   "metadata": {},
   "outputs": [],
   "source": [
    "A = k_means()\n",
    "A.fit(learn_data,2,5)"
   ]
  },
  {
   "cell_type": "code",
   "execution_count": 7,
   "metadata": {},
   "outputs": [
    {
     "data": {
      "image/png": "[encoded data removed]",
      "text/plain": [
       "<Figure size 432x288 with 1 Axes>"
      ]
     },
     "metadata": {
      "needs_background": "light"
     },
     "output_type": "display_data"
    }
   ],
   "source": [
    "idx1 = np.where(A.Rnk == 0)[0]\n",
    "idx2 = np.where(A.Rnk == 1)[0]\n",
    "plt.scatter(learn_data[idx1,0],learn_data[idx1,1],color = 'red')\n",
    "plt.scatter(learn_data[idx2,0],learn_data[idx2,1],color = 'green')\n",
    "plt.scatter(np.array([A.centroid[0,0],A.centroid[1,0]]),np.array([A.centroid[0,1],A.centroid[1,1]]),marker='*', s=300,c='b', label='centroid')\n",
    "plt.show()"
   ]
  },
  {
   "cell_type": "code",
   "execution_count": null,
   "metadata": {},
   "outputs": [],
   "source": []
  }
 ],
 "metadata": {
  "kernelspec": {
   "display_name": "Python 3",
   "language": "python",
   "name": "python3"
  },
  "language_info": {
   "codemirror_mode": {
    "name": "ipython",
    "version": 3
   },
   "file_extension": ".py",
   "mimetype": "text/x-python",
   "name": "python",
   "nbconvert_exporter": "python",
   "pygments_lexer": "ipython3",
   "version": "3.7.4"
  }
 },
 "nbformat": 4,
 "nbformat_minor": 2
}
