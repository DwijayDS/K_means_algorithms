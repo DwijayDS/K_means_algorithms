{
 "cells": [
  {
   "cell_type": "code",
   "execution_count": 1,
   "metadata": {},
   "outputs": [],
   "source": [
    "import pandas as pd\n",
    "import numpy as np\n",
    "import matplotlib.pyplot as plt\n",
    "import random"
   ]
  },
  {
   "cell_type": "code",
   "execution_count": 2,
   "metadata": {},
   "outputs": [],
   "source": [
    "faith_data = pd.read_csv(\"/home/dwijay/NOTEBOOKS/Trying_ML/K_means_trial/faithful.csv\")"
   ]
  },
  {
   "cell_type": "code",
   "execution_count": 3,
   "metadata": {},
   "outputs": [
    {
     "data": {
      "text/html": [
       "<div>\n",
       "<style scoped>\n",
       "    .dataframe tbody tr th:only-of-type {\n",
       "        vertical-align: middle;\n",
       "    }\n",
       "\n",
       "    .dataframe tbody tr th {\n",
       "        vertical-align: top;\n",
       "    }\n",
       "\n",
       "    .dataframe thead th {\n",
       "        text-align: right;\n",
       "    }\n",
       "</style>\n",
       "<table border=\"1\" class=\"dataframe\">\n",
       "  <thead>\n",
       "    <tr style=\"text-align: right;\">\n",
       "      <th></th>\n",
       "      <th>Unnamed: 0</th>\n",
       "      <th>eruptions</th>\n",
       "      <th>waiting</th>\n",
       "    </tr>\n",
       "  </thead>\n",
       "  <tbody>\n",
       "    <tr>\n",
       "      <td>count</td>\n",
       "      <td>272.000000</td>\n",
       "      <td>272.000000</td>\n",
       "      <td>272.000000</td>\n",
       "    </tr>\n",
       "    <tr>\n",
       "      <td>mean</td>\n",
       "      <td>136.500000</td>\n",
       "      <td>3.487783</td>\n",
       "      <td>70.897059</td>\n",
       "    </tr>\n",
       "    <tr>\n",
       "      <td>std</td>\n",
       "      <td>78.663842</td>\n",
       "      <td>1.141371</td>\n",
       "      <td>13.594974</td>\n",
       "    </tr>\n",
       "    <tr>\n",
       "      <td>min</td>\n",
       "      <td>1.000000</td>\n",
       "      <td>1.600000</td>\n",
       "      <td>43.000000</td>\n",
       "    </tr>\n",
       "    <tr>\n",
       "      <td>25%</td>\n",
       "      <td>68.750000</td>\n",
       "      <td>2.162750</td>\n",
       "      <td>58.000000</td>\n",
       "    </tr>\n",
       "    <tr>\n",
       "      <td>50%</td>\n",
       "      <td>136.500000</td>\n",
       "      <td>4.000000</td>\n",
       "      <td>76.000000</td>\n",
       "    </tr>\n",
       "    <tr>\n",
       "      <td>75%</td>\n",
       "      <td>204.250000</td>\n",
       "      <td>4.454250</td>\n",
       "      <td>82.000000</td>\n",
       "    </tr>\n",
       "    <tr>\n",
       "      <td>max</td>\n",
       "      <td>272.000000</td>\n",
       "      <td>5.100000</td>\n",
       "      <td>96.000000</td>\n",
       "    </tr>\n",
       "  </tbody>\n",
       "</table>\n",
       "</div>"
      ],
      "text/plain": [
       "       Unnamed: 0   eruptions     waiting\n",
       "count  272.000000  272.000000  272.000000\n",
       "mean   136.500000    3.487783   70.897059\n",
       "std     78.663842    1.141371   13.594974\n",
       "min      1.000000    1.600000   43.000000\n",
       "25%     68.750000    2.162750   58.000000\n",
       "50%    136.500000    4.000000   76.000000\n",
       "75%    204.250000    4.454250   82.000000\n",
       "max    272.000000    5.100000   96.000000"
      ]
     },
     "execution_count": 3,
     "metadata": {},
     "output_type": "execute_result"
    }
   ],
   "source": [
    "faith_data.describe()"
   ]
  },
  {
   "cell_type": "code",
   "execution_count": 10,
   "metadata": {},
   "outputs": [
    {
     "name": "stdout",
     "output_type": "stream",
     "text": [
      "(217, 2)\n"
     ]
    }
   ],
   "source": [
    "data = np.genfromtxt('/home/dwijay/NOTEBOOKS/Trying_ML/K_means_trial/faithful.csv',delimiter=',')\n",
    "learn_data = data[1:int(0.8*272)+1,1:]\n",
    "test_data = data[int(0.8*272)+1:,1:]\n",
    "print(np.shape(learn_data))"
   ]
  },
  {
   "cell_type": "code",
   "execution_count": 11,
   "metadata": {},
   "outputs": [
    {
     "name": "stdout",
     "output_type": "stream",
     "text": [
      "(273, 3)\n"
     ]
    }
   ],
   "source": [
    "print(np.shape(data))"
   ]
  },
  {
   "cell_type": "code",
   "execution_count": 27,
   "metadata": {},
   "outputs": [
    {
     "data": {
      "text/plain": [
       "array([[ 3.6  , 79.   ],\n",
       "       [ 1.8  , 54.   ],\n",
       "       [ 3.333, 74.   ],\n",
       "       [ 2.283, 62.   ],\n",
       "       [ 4.533, 85.   ],\n",
       "       [ 2.883, 55.   ],\n",
       "       [ 4.7  , 88.   ],\n",
       "       [ 3.6  , 85.   ],\n",
       "       [ 1.95 , 51.   ],\n",
       "       [ 4.35 , 85.   ],\n",
       "       [ 1.833, 54.   ],\n",
       "       [ 3.917, 84.   ],\n",
       "       [ 4.2  , 78.   ],\n",
       "       [ 1.75 , 47.   ],\n",
       "       [ 4.7  , 83.   ],\n",
       "       [ 2.167, 52.   ],\n",
       "       [ 1.75 , 62.   ],\n",
       "       [ 4.8  , 84.   ],\n",
       "       [ 1.6  , 52.   ],\n",
       "       [ 4.25 , 79.   ],\n",
       "       [ 1.8  , 51.   ],\n",
       "       [ 1.75 , 47.   ],\n",
       "       [ 3.45 , 78.   ],\n",
       "       [ 3.067, 69.   ],\n",
       "       [ 4.533, 74.   ],\n",
       "       [ 3.6  , 83.   ],\n",
       "       [ 1.967, 55.   ],\n",
       "       [ 4.083, 76.   ],\n",
       "       [ 3.85 , 78.   ],\n",
       "       [ 4.433, 79.   ],\n",
       "       [ 4.3  , 73.   ],\n",
       "       [ 4.467, 77.   ],\n",
       "       [ 3.367, 66.   ],\n",
       "       [ 4.033, 80.   ],\n",
       "       [ 3.833, 74.   ],\n",
       "       [ 2.017, 52.   ],\n",
       "       [ 1.867, 48.   ],\n",
       "       [ 4.833, 80.   ],\n",
       "       [ 1.833, 59.   ],\n",
       "       [ 4.783, 90.   ],\n",
       "       [ 4.35 , 80.   ],\n",
       "       [ 1.883, 58.   ],\n",
       "       [ 4.567, 84.   ],\n",
       "       [ 1.75 , 58.   ],\n",
       "       [ 4.533, 73.   ],\n",
       "       [ 3.317, 83.   ],\n",
       "       [ 3.833, 64.   ],\n",
       "       [ 2.1  , 53.   ],\n",
       "       [ 4.633, 82.   ],\n",
       "       [ 2.   , 59.   ],\n",
       "       [ 4.8  , 75.   ],\n",
       "       [ 4.716, 90.   ],\n",
       "       [ 1.833, 54.   ],\n",
       "       [ 4.833, 80.   ],\n",
       "       [ 1.733, 54.   ],\n",
       "       [ 4.883, 83.   ],\n",
       "       [ 3.717, 71.   ],\n",
       "       [ 1.667, 64.   ],\n",
       "       [ 4.567, 77.   ],\n",
       "       [ 4.317, 81.   ],\n",
       "       [ 2.233, 59.   ],\n",
       "       [ 4.5  , 84.   ],\n",
       "       [ 1.75 , 48.   ],\n",
       "       [ 4.8  , 82.   ],\n",
       "       [ 1.817, 60.   ],\n",
       "       [ 4.4  , 92.   ],\n",
       "       [ 4.167, 78.   ],\n",
       "       [ 4.7  , 78.   ],\n",
       "       [ 2.067, 65.   ],\n",
       "       [ 4.7  , 73.   ],\n",
       "       [ 4.033, 82.   ],\n",
       "       [ 1.967, 56.   ],\n",
       "       [ 4.5  , 79.   ],\n",
       "       [ 4.   , 71.   ],\n",
       "       [ 1.983, 62.   ],\n",
       "       [ 5.067, 76.   ],\n",
       "       [ 2.017, 60.   ],\n",
       "       [ 4.567, 78.   ],\n",
       "       [ 3.883, 76.   ],\n",
       "       [ 3.6  , 83.   ],\n",
       "       [ 4.133, 75.   ],\n",
       "       [ 4.333, 82.   ],\n",
       "       [ 4.1  , 70.   ],\n",
       "       [ 2.633, 65.   ],\n",
       "       [ 4.067, 73.   ],\n",
       "       [ 4.933, 88.   ],\n",
       "       [ 3.95 , 76.   ],\n",
       "       [ 4.517, 80.   ],\n",
       "       [ 2.167, 48.   ],\n",
       "       [ 4.   , 86.   ],\n",
       "       [ 2.2  , 60.   ],\n",
       "       [ 4.333, 90.   ],\n",
       "       [ 1.867, 50.   ],\n",
       "       [ 4.817, 78.   ],\n",
       "       [ 1.833, 63.   ],\n",
       "       [ 4.3  , 72.   ],\n",
       "       [ 4.667, 84.   ],\n",
       "       [ 3.75 , 75.   ],\n",
       "       [ 1.867, 51.   ],\n",
       "       [ 4.9  , 82.   ],\n",
       "       [ 2.483, 62.   ],\n",
       "       [ 4.367, 88.   ],\n",
       "       [ 2.1  , 49.   ],\n",
       "       [ 4.5  , 83.   ],\n",
       "       [ 4.05 , 81.   ],\n",
       "       [ 1.867, 47.   ],\n",
       "       [ 4.7  , 84.   ],\n",
       "       [ 1.783, 52.   ],\n",
       "       [ 4.85 , 86.   ],\n",
       "       [ 3.683, 81.   ],\n",
       "       [ 4.733, 75.   ],\n",
       "       [ 2.3  , 59.   ],\n",
       "       [ 4.9  , 89.   ],\n",
       "       [ 4.417, 79.   ],\n",
       "       [ 1.7  , 59.   ],\n",
       "       [ 4.633, 81.   ],\n",
       "       [ 2.317, 50.   ],\n",
       "       [ 4.6  , 85.   ],\n",
       "       [ 1.817, 59.   ],\n",
       "       [ 4.417, 87.   ],\n",
       "       [ 2.617, 53.   ],\n",
       "       [ 4.067, 69.   ],\n",
       "       [ 4.25 , 77.   ],\n",
       "       [ 1.967, 56.   ],\n",
       "       [ 4.6  , 88.   ],\n",
       "       [ 3.767, 81.   ],\n",
       "       [ 1.917, 45.   ],\n",
       "       [ 4.5  , 82.   ],\n",
       "       [ 2.267, 55.   ],\n",
       "       [ 4.65 , 90.   ],\n",
       "       [ 1.867, 45.   ],\n",
       "       [ 4.167, 83.   ],\n",
       "       [ 2.8  , 56.   ],\n",
       "       [ 4.333, 89.   ],\n",
       "       [ 1.833, 46.   ],\n",
       "       [ 4.383, 82.   ],\n",
       "       [ 1.883, 51.   ],\n",
       "       [ 4.933, 86.   ],\n",
       "       [ 2.033, 53.   ],\n",
       "       [ 3.733, 79.   ],\n",
       "       [ 4.233, 81.   ],\n",
       "       [ 2.233, 60.   ],\n",
       "       [ 4.533, 82.   ],\n",
       "       [ 4.817, 77.   ],\n",
       "       [ 4.333, 76.   ],\n",
       "       [ 1.983, 59.   ],\n",
       "       [ 4.633, 80.   ],\n",
       "       [ 2.017, 49.   ],\n",
       "       [ 5.1  , 96.   ],\n",
       "       [ 1.8  , 53.   ],\n",
       "       [ 5.033, 77.   ],\n",
       "       [ 4.   , 77.   ],\n",
       "       [ 2.4  , 65.   ],\n",
       "       [ 4.6  , 81.   ],\n",
       "       [ 3.567, 71.   ],\n",
       "       [ 4.   , 70.   ],\n",
       "       [ 4.5  , 81.   ],\n",
       "       [ 4.083, 93.   ],\n",
       "       [ 1.8  , 53.   ],\n",
       "       [ 3.967, 89.   ],\n",
       "       [ 2.2  , 45.   ],\n",
       "       [ 4.15 , 86.   ],\n",
       "       [ 2.   , 58.   ],\n",
       "       [ 3.833, 78.   ],\n",
       "       [ 3.5  , 66.   ],\n",
       "       [ 4.583, 76.   ],\n",
       "       [ 2.367, 63.   ],\n",
       "       [ 5.   , 88.   ],\n",
       "       [ 1.933, 52.   ],\n",
       "       [ 4.617, 93.   ],\n",
       "       [ 1.917, 49.   ],\n",
       "       [ 2.083, 57.   ],\n",
       "       [ 4.583, 77.   ],\n",
       "       [ 3.333, 68.   ],\n",
       "       [ 4.167, 81.   ],\n",
       "       [ 4.333, 81.   ],\n",
       "       [ 4.5  , 73.   ],\n",
       "       [ 2.417, 50.   ],\n",
       "       [ 4.   , 85.   ],\n",
       "       [ 4.167, 74.   ],\n",
       "       [ 1.883, 55.   ],\n",
       "       [ 4.583, 77.   ],\n",
       "       [ 4.25 , 83.   ],\n",
       "       [ 3.767, 83.   ],\n",
       "       [ 2.033, 51.   ],\n",
       "       [ 4.433, 78.   ],\n",
       "       [ 4.083, 84.   ],\n",
       "       [ 1.833, 46.   ],\n",
       "       [ 4.417, 83.   ],\n",
       "       [ 2.183, 55.   ],\n",
       "       [ 4.8  , 81.   ],\n",
       "       [ 1.833, 57.   ],\n",
       "       [ 4.8  , 76.   ],\n",
       "       [ 4.1  , 84.   ],\n",
       "       [ 3.966, 77.   ],\n",
       "       [ 4.233, 81.   ],\n",
       "       [ 3.5  , 87.   ],\n",
       "       [ 4.366, 77.   ],\n",
       "       [ 2.25 , 51.   ],\n",
       "       [ 4.667, 78.   ],\n",
       "       [ 2.1  , 60.   ],\n",
       "       [ 4.35 , 82.   ],\n",
       "       [ 4.133, 91.   ],\n",
       "       [ 1.867, 53.   ],\n",
       "       [ 4.6  , 78.   ],\n",
       "       [ 1.783, 46.   ],\n",
       "       [ 4.367, 77.   ],\n",
       "       [ 3.85 , 84.   ],\n",
       "       [ 1.933, 49.   ],\n",
       "       [ 4.5  , 83.   ],\n",
       "       [ 2.383, 71.   ],\n",
       "       [ 4.7  , 80.   ],\n",
       "       [ 1.867, 49.   ],\n",
       "       [ 3.833, 75.   ],\n",
       "       [ 3.417, 64.   ],\n",
       "       [ 4.233, 76.   ],\n",
       "       [ 2.4  , 53.   ]])"
      ]
     },
     "execution_count": 27,
     "metadata": {},
     "output_type": "execute_result"
    }
   ],
   "source": [
    "learn_data"
   ]
  },
  {
   "cell_type": "code",
   "execution_count": 12,
   "metadata": {},
   "outputs": [
    {
     "data": {
      "image/png": "[encoded data removed]",
      "text/plain": [
       "<Figure size 432x288 with 1 Axes>"
      ]
     },
     "metadata": {
      "needs_background": "light"
     },
     "output_type": "display_data"
    }
   ],
   "source": [
    "plt.scatter(learn_data[:,0],learn_data[:,1])\n",
    "plt.show()"
   ]
  },
  {
   "cell_type": "code",
   "execution_count": 28,
   "metadata": {},
   "outputs": [],
   "source": [
    "#centroid1 = learn_data[random.randrange(int(0.8*272)),:]\n",
    "#centroid2 = learn_data[random.randrange(int(0.8*272)),:]\n",
    "#Put an if statement if they are same rondomize again\n",
    "centroid1 = np.array([2.0,100.0])\n",
    "centroid2 = np.array([4.5,50.0])"
   ]
  },
  {
   "cell_type": "code",
   "execution_count": 29,
   "metadata": {},
   "outputs": [
    {
     "name": "stdout",
     "output_type": "stream",
     "text": [
      "[  2. 100.] [ 4.5 50. ]\n"
     ]
    }
   ],
   "source": [
    "print(centroid1,centroid2)"
   ]
  },
  {
   "cell_type": "code",
   "execution_count": 30,
   "metadata": {},
   "outputs": [
    {
     "data": {
      "image/png": "[encoded data removed]",
      "text/plain": [
       "<Figure size 432x288 with 1 Axes>"
      ]
     },
     "metadata": {
      "needs_background": "light"
     },
     "output_type": "display_data"
    }
   ],
   "source": [
    "plt.scatter(np.array([centroid1[0],centroid2[0]]),np.array([centroid1[1],centroid2[1]]),marker='x',color='red')\n",
    "plt.xlim(0,6)\n",
    "plt.scatter(learn_data[:,0],learn_data[:,1])\n",
    "plt.show()"
   ]
  },
  {
   "cell_type": "markdown",
   "metadata": {},
   "source": [
    "**K-Means Algo with one data at time**\n"
   ]
  },
  {
   "cell_type": "code",
   "execution_count": 65,
   "metadata": {},
   "outputs": [],
   "source": [
    "Rnk = np.zeros((int(0.8*272),2),dtype=np.float16)\n",
    "\n"
   ]
  },
  {
   "cell_type": "code",
   "execution_count": 70,
   "metadata": {},
   "outputs": [],
   "source": [
    "for i in range(int(0.8*272)):\n",
    "    dist = [0,0]\n",
    "    for j in range(2):\n",
    "        dist[0] = dist[0]+(learn_data[i,j]-centroid1[j])**2\n",
    "        dist[1] = dist[1]+(learn_data[i,j]-centroid2[j])**2\n",
    "        #if np.isnan(dist[0])\n",
    "    ind = dist.index(min(dist))\n",
    "    Rnk[i,ind] = 1\n",
    "    #print(\"dist\",dist,\"Rnk\",Rnk[i,:])\n",
    "    "
   ]
  },
  {
   "cell_type": "code",
   "execution_count": 71,
   "metadata": {},
   "outputs": [
    {
     "name": "stdout",
     "output_type": "stream",
     "text": [
      "84.0\n"
     ]
    }
   ],
   "source": [
    "print(np.sum(Rnk[:,1]))"
   ]
  },
  {
   "cell_type": "code",
   "execution_count": 72,
   "metadata": {},
   "outputs": [],
   "source": [
    "centroid1[0] = np.sum(np.matmul(Rnk[:,0],learn_data[:,0]))/np.sum(Rnk[:,0])\n",
    "centroid1[1] = np.sum(np.matmul(Rnk[:,0],learn_data[:,1]))/np.sum(Rnk[:,0])\n",
    "centroid2[0] = np.sum(np.matmul(Rnk[:,1],learn_data[:,0]))/np.sum(Rnk[:,1])\n",
    "centroid2[1] = np.sum(np.matmul(Rnk[:,1],learn_data[:,1]))/np.sum(Rnk[:,1])"
   ]
  },
  {
   "cell_type": "code",
   "execution_count": 73,
   "metadata": {},
   "outputs": [
    {
     "data": {
      "image/png": "[encoded data removed]",
      "text/plain": [
       "<Figure size 432x288 with 1 Axes>"
      ]
     },
     "metadata": {
      "needs_background": "light"
     },
     "output_type": "display_data"
    }
   ],
   "source": [
    "idx1 = np.where(Rnk==[0,1])\n",
    "idx2 = np.where(Rnk==[1,0])\n",
    "plt.scatter(learn_data[idx1,0],learn_data[idx1,1],color = 'red')\n",
    "plt.scatter(learn_data[idx2,0],learn_data[idx2,1],color = 'green')\n",
    "plt.scatter(np.array([centroid1[0],centroid2[0]]),np.array([centroid1[1],centroid2[1]]),marker='*', s=300,c='b', label='centroid')\n",
    "plt.show()"
   ]
  },
  {
   "cell_type": "code",
   "execution_count": 36,
   "metadata": {},
   "outputs": [
    {
     "name": "stdout",
     "output_type": "stream",
     "text": [
      "[ 4.36840179 82.15178571] [ 2.52522857 58.86666667]\n"
     ]
    }
   ],
   "source": [
    "print(centroid1,centroid2)"
   ]
  },
  {
   "cell_type": "code",
   "execution_count": 89,
   "metadata": {},
   "outputs": [],
   "source": [
    "id_new = np.where(learn_data[idx2,0]<2.0)"
   ]
  },
  {
   "cell_type": "code",
   "execution_count": 93,
   "metadata": {},
   "outputs": [
    {
     "data": {
      "text/plain": [
       "(217, 2)"
      ]
     },
     "execution_count": 93,
     "metadata": {},
     "output_type": "execute_result"
    }
   ],
   "source": [
    "np.shape(learn_data)"
   ]
  },
  {
   "cell_type": "code",
   "execution_count": 94,
   "metadata": {},
   "outputs": [
    {
     "data": {
      "text/plain": [
       "(array([  0,   0,   2,   2,   4,   4,   6,   6,   7,   7,   9,   9,  11,\n",
       "         11,  12,  12,  14,  14,  17,  17,  19,  19,  22,  22,  23,  24,\n",
       "         24,  25,  25,  27,  27,  28,  28,  29,  29,  30,  30,  31,  31,\n",
       "         33,  33,  34,  34,  37,  37,  39,  39,  40,  40,  42,  42,  44,\n",
       "         44,  45,  45,  48,  48,  50,  50,  51,  51,  53,  53,  55,  55,\n",
       "         56,  56,  58,  58,  59,  59,  61,  61,  63,  63,  65,  65,  66,\n",
       "         66,  67,  67,  69,  69,  70,  70,  72,  72,  73,  73,  75,  75,\n",
       "         77,  77,  78,  78,  79,  79,  80,  80,  81,  81,  82,  82,  84,\n",
       "         84,  85,  85,  86,  86,  87,  87,  89,  89,  91,  91,  93,  93,\n",
       "         95,  95,  96,  96,  97,  97,  99,  99, 101, 101, 103, 103, 104,\n",
       "        104, 106, 106, 108, 108, 109, 109, 110, 110, 112, 112, 113, 113,\n",
       "        115, 115, 117, 117, 119, 119, 121, 122, 122, 124, 124, 125, 125,\n",
       "        127, 127, 129, 129, 131, 131, 133, 133, 135, 135, 137, 137, 139,\n",
       "        139, 140, 140, 142, 142, 143, 143, 144, 144, 146, 146, 148, 148,\n",
       "        150, 150, 151, 151, 153, 153, 154, 154, 155, 155, 156, 156, 157,\n",
       "        157, 159, 159, 161, 161, 163, 163, 165, 165, 167, 167, 169, 169,\n",
       "        172, 172, 174, 174, 175, 175, 176, 176, 178, 178, 179, 179, 181,\n",
       "        181, 182, 182, 183, 183, 185, 185, 186, 186, 188, 188, 190, 190,\n",
       "        192, 192, 193, 193, 194, 194, 195, 195, 196, 196, 197, 197, 199,\n",
       "        199, 201, 201, 202, 202, 204, 204, 206, 206, 207, 207, 209, 209,\n",
       "        210, 210, 211, 211, 213, 213, 215, 215]),\n",
       " array([0, 1, 0, 1, 0, 1, 0, 1, 0, 1, 0, 1, 0, 1, 0, 1, 0, 1, 0, 1, 0, 1,\n",
       "        0, 1, 0, 0, 1, 0, 1, 0, 1, 0, 1, 0, 1, 0, 1, 0, 1, 0, 1, 0, 1, 0,\n",
       "        1, 0, 1, 0, 1, 0, 1, 0, 1, 0, 1, 0, 1, 0, 1, 0, 1, 0, 1, 0, 1, 0,\n",
       "        1, 0, 1, 0, 1, 0, 1, 0, 1, 0, 1, 0, 1, 0, 1, 0, 1, 0, 1, 0, 1, 0,\n",
       "        1, 0, 1, 0, 1, 0, 1, 0, 1, 0, 1, 0, 1, 0, 1, 0, 1, 0, 1, 0, 1, 0,\n",
       "        1, 0, 1, 0, 1, 0, 1, 0, 1, 0, 1, 0, 1, 0, 1, 0, 1, 0, 1, 0, 1, 0,\n",
       "        1, 0, 1, 0, 1, 0, 1, 0, 1, 0, 1, 0, 1, 0, 1, 0, 1, 0, 0, 1, 0, 1,\n",
       "        0, 1, 0, 1, 0, 1, 0, 1, 0, 1, 0, 1, 0, 1, 0, 1, 0, 1, 0, 1, 0, 1,\n",
       "        0, 1, 0, 1, 0, 1, 0, 1, 0, 1, 0, 1, 0, 1, 0, 1, 0, 1, 0, 1, 0, 1,\n",
       "        0, 1, 0, 1, 0, 1, 0, 1, 0, 1, 0, 1, 0, 1, 0, 1, 0, 1, 0, 1, 0, 1,\n",
       "        0, 1, 0, 1, 0, 1, 0, 1, 0, 1, 0, 1, 0, 1, 0, 1, 0, 1, 0, 1, 0, 1,\n",
       "        0, 1, 0, 1, 0, 1, 0, 1, 0, 1, 0, 1, 0, 1, 0, 1, 0, 1, 0, 1, 0, 1,\n",
       "        0, 1, 0, 1]))"
      ]
     },
     "execution_count": 94,
     "metadata": {},
     "output_type": "execute_result"
    }
   ],
   "source": [
    "idx2"
   ]
  },
  {
   "cell_type": "code",
   "execution_count": 92,
   "metadata": {},
   "outputs": [
    {
     "data": {
      "text/plain": [
       "array([[3.6  , 3.6  , 3.333, 3.333, 4.533, 4.533, 4.7  , 4.7  , 3.6  ,\n",
       "        3.6  , 4.35 , 4.35 , 3.917, 3.917, 4.2  , 4.2  , 4.7  , 4.7  ,\n",
       "        4.8  , 4.8  , 4.25 , 4.25 , 3.45 , 3.45 , 3.067, 4.533, 4.533,\n",
       "        3.6  , 3.6  , 4.083, 4.083, 3.85 , 3.85 , 4.433, 4.433, 4.3  ,\n",
       "        4.3  , 4.467, 4.467, 4.033, 4.033, 3.833, 3.833, 4.833, 4.833,\n",
       "        4.783, 4.783, 4.35 , 4.35 , 4.567, 4.567, 4.533, 4.533, 3.317,\n",
       "        3.317, 4.633, 4.633, 4.8  , 4.8  , 4.716, 4.716, 4.833, 4.833,\n",
       "        4.883, 4.883, 3.717, 3.717, 4.567, 4.567, 4.317, 4.317, 4.5  ,\n",
       "        4.5  , 4.8  , 4.8  , 4.4  , 4.4  , 4.167, 4.167, 4.7  , 4.7  ,\n",
       "        4.7  , 4.7  , 4.033, 4.033, 4.5  , 4.5  , 4.   , 4.   , 5.067,\n",
       "        5.067, 4.567, 4.567, 3.883, 3.883, 3.6  , 3.6  , 4.133, 4.133,\n",
       "        4.333, 4.333, 4.1  , 4.1  , 4.067, 4.067, 4.933, 4.933, 3.95 ,\n",
       "        3.95 , 4.517, 4.517, 4.   , 4.   , 4.333, 4.333, 4.817, 4.817,\n",
       "        4.3  , 4.3  , 4.667, 4.667, 3.75 , 3.75 , 4.9  , 4.9  , 4.367,\n",
       "        4.367, 4.5  , 4.5  , 4.05 , 4.05 , 4.7  , 4.7  , 4.85 , 4.85 ,\n",
       "        3.683, 3.683, 4.733, 4.733, 4.9  , 4.9  , 4.417, 4.417, 4.633,\n",
       "        4.633, 4.6  , 4.6  , 4.417, 4.417, 4.067, 4.25 , 4.25 , 4.6  ,\n",
       "        4.6  , 3.767, 3.767, 4.5  , 4.5  , 4.65 , 4.65 , 4.167, 4.167,\n",
       "        4.333, 4.333, 4.383, 4.383, 4.933, 4.933, 3.733, 3.733, 4.233,\n",
       "        4.233, 4.533, 4.533, 4.817, 4.817, 4.333, 4.333, 4.633, 4.633,\n",
       "        5.1  , 5.1  , 5.033, 5.033, 4.   , 4.   , 4.6  , 4.6  , 3.567,\n",
       "        3.567, 4.   , 4.   , 4.5  , 4.5  , 4.083, 4.083, 3.967, 3.967,\n",
       "        4.15 , 4.15 , 3.833, 3.833, 4.583, 4.583, 5.   , 5.   , 4.617,\n",
       "        4.617, 4.583, 4.583, 4.167, 4.167, 4.333, 4.333, 4.5  , 4.5  ,\n",
       "        4.   , 4.   , 4.167, 4.167, 4.583, 4.583, 4.25 , 4.25 , 3.767,\n",
       "        3.767, 4.433, 4.433, 4.083, 4.083, 4.417, 4.417, 4.8  , 4.8  ,\n",
       "        4.8  , 4.8  , 4.1  , 4.1  , 3.966, 3.966, 4.233, 4.233, 3.5  ,\n",
       "        3.5  , 4.366, 4.366, 4.667, 4.667, 4.35 , 4.35 , 4.133, 4.133,\n",
       "        4.6  , 4.6  , 4.367, 4.367, 3.85 , 3.85 , 4.5  , 4.5  , 2.383,\n",
       "        2.383, 4.7  , 4.7  , 3.833, 3.833, 4.233, 4.233],\n",
       "       [3.6  , 1.8  , 3.6  , 1.8  , 3.6  , 1.8  , 3.6  , 1.8  , 3.6  ,\n",
       "        1.8  , 3.6  , 1.8  , 3.6  , 1.8  , 3.6  , 1.8  , 3.6  , 1.8  ,\n",
       "        3.6  , 1.8  , 3.6  , 1.8  , 3.6  , 1.8  , 3.6  , 3.6  , 1.8  ,\n",
       "        3.6  , 1.8  , 3.6  , 1.8  , 3.6  , 1.8  , 3.6  , 1.8  , 3.6  ,\n",
       "        1.8  , 3.6  , 1.8  , 3.6  , 1.8  , 3.6  , 1.8  , 3.6  , 1.8  ,\n",
       "        3.6  , 1.8  , 3.6  , 1.8  , 3.6  , 1.8  , 3.6  , 1.8  , 3.6  ,\n",
       "        1.8  , 3.6  , 1.8  , 3.6  , 1.8  , 3.6  , 1.8  , 3.6  , 1.8  ,\n",
       "        3.6  , 1.8  , 3.6  , 1.8  , 3.6  , 1.8  , 3.6  , 1.8  , 3.6  ,\n",
       "        1.8  , 3.6  , 1.8  , 3.6  , 1.8  , 3.6  , 1.8  , 3.6  , 1.8  ,\n",
       "        3.6  , 1.8  , 3.6  , 1.8  , 3.6  , 1.8  , 3.6  , 1.8  , 3.6  ,\n",
       "        1.8  , 3.6  , 1.8  , 3.6  , 1.8  , 3.6  , 1.8  , 3.6  , 1.8  ,\n",
       "        3.6  , 1.8  , 3.6  , 1.8  , 3.6  , 1.8  , 3.6  , 1.8  , 3.6  ,\n",
       "        1.8  , 3.6  , 1.8  , 3.6  , 1.8  , 3.6  , 1.8  , 3.6  , 1.8  ,\n",
       "        3.6  , 1.8  , 3.6  , 1.8  , 3.6  , 1.8  , 3.6  , 1.8  , 3.6  ,\n",
       "        1.8  , 3.6  , 1.8  , 3.6  , 1.8  , 3.6  , 1.8  , 3.6  , 1.8  ,\n",
       "        3.6  , 1.8  , 3.6  , 1.8  , 3.6  , 1.8  , 3.6  , 1.8  , 3.6  ,\n",
       "        1.8  , 3.6  , 1.8  , 3.6  , 1.8  , 3.6  , 3.6  , 1.8  , 3.6  ,\n",
       "        1.8  , 3.6  , 1.8  , 3.6  , 1.8  , 3.6  , 1.8  , 3.6  , 1.8  ,\n",
       "        3.6  , 1.8  , 3.6  , 1.8  , 3.6  , 1.8  , 3.6  , 1.8  , 3.6  ,\n",
       "        1.8  , 3.6  , 1.8  , 3.6  , 1.8  , 3.6  , 1.8  , 3.6  , 1.8  ,\n",
       "        3.6  , 1.8  , 3.6  , 1.8  , 3.6  , 1.8  , 3.6  , 1.8  , 3.6  ,\n",
       "        1.8  , 3.6  , 1.8  , 3.6  , 1.8  , 3.6  , 1.8  , 3.6  , 1.8  ,\n",
       "        3.6  , 1.8  , 3.6  , 1.8  , 3.6  , 1.8  , 3.6  , 1.8  , 3.6  ,\n",
       "        1.8  , 3.6  , 1.8  , 3.6  , 1.8  , 3.6  , 1.8  , 3.6  , 1.8  ,\n",
       "        3.6  , 1.8  , 3.6  , 1.8  , 3.6  , 1.8  , 3.6  , 1.8  , 3.6  ,\n",
       "        1.8  , 3.6  , 1.8  , 3.6  , 1.8  , 3.6  , 1.8  , 3.6  , 1.8  ,\n",
       "        3.6  , 1.8  , 3.6  , 1.8  , 3.6  , 1.8  , 3.6  , 1.8  , 3.6  ,\n",
       "        1.8  , 3.6  , 1.8  , 3.6  , 1.8  , 3.6  , 1.8  , 3.6  , 1.8  ,\n",
       "        3.6  , 1.8  , 3.6  , 1.8  , 3.6  , 1.8  , 3.6  , 1.8  , 3.6  ,\n",
       "        1.8  , 3.6  , 1.8  , 3.6  , 1.8  , 3.6  , 1.8  ]])"
      ]
     },
     "execution_count": 92,
     "metadata": {},
     "output_type": "execute_result"
    }
   ],
   "source": [
    "learn_data[idx2,0]"
   ]
  },
  {
   "cell_type": "code",
   "execution_count": null,
   "metadata": {},
   "outputs": [],
   "source": []
  },
  {
   "cell_type": "code",
   "execution_count": 112,
   "metadata": {},
   "outputs": [],
   "source": [
    "from sklearn.cluster import KMeans\n",
    "\n",
    "kmeans = KMeans(n_clusters=3, random_state=0).fit(learn_data)\n"
   ]
  },
  {
   "cell_type": "code",
   "execution_count": 113,
   "metadata": {},
   "outputs": [],
   "source": [
    "pred = kmeans.predict(learn_data)"
   ]
  },
  {
   "cell_type": "code",
   "execution_count": 114,
   "metadata": {},
   "outputs": [],
   "source": [
    "cent = kmeans.cluster_centers_"
   ]
  },
  {
   "cell_type": "code",
   "execution_count": 115,
   "metadata": {},
   "outputs": [],
   "source": [
    "lab = kmeans.labels_"
   ]
  },
  {
   "cell_type": "code",
   "execution_count": 116,
   "metadata": {},
   "outputs": [
    {
     "data": {
      "image/png": "[encoded data removed]",
      "text/plain": [
       "<Figure size 432x288 with 1 Axes>"
      ]
     },
     "metadata": {
      "needs_background": "light"
     },
     "output_type": "display_data"
    }
   ],
   "source": [
    "idx1 = np.where(pred == 0)\n",
    "idx2 = np.where(pred == 1)\n",
    "idx3 = np.where(pred == 2)\n",
    "plt.scatter(learn_data[idx1,0],learn_data[idx1,1],color = 'red')\n",
    "plt.scatter(learn_data[idx2,0],learn_data[idx2,1],color = 'green')\n",
    "plt.scatter(learn_data[idx3,0],learn_data[idx3,1],color = 'yellow')\n",
    "plt.scatter(np.array([cent[0,0],cent[1,0],cent[2,0]]),np.array([cent[0,1],cent[1,1],cent[2,1]]),marker='*', s=300,c='b', label='centroid')\n",
    "plt.show()"
   ]
  },
  {
   "cell_type": "code",
   "execution_count": null,
   "metadata": {},
   "outputs": [],
   "source": [
    "kmeans.labels_\n",
    "array([1, 1, 1, 0, 0, 0], dtype=int32)\n",
    ">>> kmeans.predict([[0, 0], [12, 3]])\n",
    "array([1, 0], dtype=int32)\n",
    ">>> kmeans.cluster_centers_\n",
    "array([[10.,  2.],\n",
    "       [ 1.,  2.]])\n"
   ]
  },
  {
   "cell_type": "code",
   "execution_count": 117,
   "metadata": {},
   "outputs": [
    {
     "data": {
      "text/plain": [
       "array([[ 4.38306579, 84.39473684],\n",
       "       [ 2.04517105, 54.15789474],\n",
       "       [ 4.09021538, 74.64615385]])"
      ]
     },
     "execution_count": 117,
     "metadata": {},
     "output_type": "execute_result"
    }
   ],
   "source": [
    "cent"
   ]
  },
  {
   "cell_type": "code",
   "execution_count": 106,
   "metadata": {},
   "outputs": [
    {
     "data": {
      "text/plain": [
       "206"
      ]
     },
     "execution_count": 106,
     "metadata": {},
     "output_type": "execute_result"
    }
   ],
   "source": [
    "np.sum(lab)"
   ]
  },
  {
   "cell_type": "code",
   "execution_count": null,
   "metadata": {},
   "outputs": [],
   "source": [
    "array([[ 4.38306579, 84.39473684],\n",
    "       [ 2.04517105, 54.15789474],\n",
    "       [ 4.09021538, 74.64615385]])"
   ]
  }
 ],
 "metadata": {
  "kernelspec": {
   "display_name": "Python 3",
   "language": "python",
   "name": "python3"
  },
  "language_info": {
   "codemirror_mode": {
    "name": "ipython",
    "version": 3
   },
   "file_extension": ".py",
   "mimetype": "text/x-python",
   "name": "python",
   "nbconvert_exporter": "python",
   "pygments_lexer": "ipython3",
   "version": "3.7.4"
  }
 },
 "nbformat": 4,
 "nbformat_minor": 2
}
